{
 "cells": [
  {
   "cell_type": "code",
   "execution_count": 186,
   "metadata": {},
   "outputs": [
    {
     "name": "stdout",
     "output_type": "stream",
     "text": [
      "Looking in links: https://download.pytorch.org/whl/cu113/torch_stable.html\n",
      "Requirement already satisfied: torch==1.10.2+cu113 in d:\\projects\\vscode\\pythonforhtests\\venv\\lib\\site-packages (1.10.2+cu113)\n",
      "Requirement already satisfied: torchvision==0.11.3+cu113 in d:\\projects\\vscode\\pythonforhtests\\venv\\lib\\site-packages (0.11.3+cu113)\n",
      "Requirement already satisfied: torchaudio===0.10.2+cu113 in d:\\projects\\vscode\\pythonforhtests\\venv\\lib\\site-packages (0.10.2+cu113)\n",
      "Requirement already satisfied: typing-extensions in d:\\projects\\vscode\\pythonforhtests\\venv\\lib\\site-packages (from torch==1.10.2+cu113) (4.1.1)\n",
      "Requirement already satisfied: numpy in d:\\projects\\vscode\\pythonforhtests\\venv\\lib\\site-packages (from torchvision==0.11.3+cu113) (1.21.5)\n",
      "Requirement already satisfied: pillow!=8.3.0,>=5.3.0 in d:\\projects\\vscode\\pythonforhtests\\venv\\lib\\site-packages (from torchvision==0.11.3+cu113) (9.0.1)\n"
     ]
    },
    {
     "name": "stderr",
     "output_type": "stream",
     "text": [
      "WARNING: You are using pip version 21.1.2; however, version 22.0.4 is available.\n",
      "You should consider upgrading via the 'D:\\projects\\vsCode\\pythonForHtests\\venv\\Scripts\\python.exe -m pip install --upgrade pip' command.\n"
     ]
    }
   ],
   "source": [
    "!pip3 install torch==1.10.2+cu113 torchvision==0.11.3+cu113 torchaudio===0.10.2+cu113 -f https://download.pytorch.org/whl/cu113/torch_stable.html"
   ]
  },
  {
   "cell_type": "code",
   "execution_count": 187,
   "metadata": {},
   "outputs": [
    {
     "name": "stderr",
     "output_type": "stream",
     "text": [
      "WARNING: You are using pip version 21.1.2; however, version 22.0.4 is available.\n",
      "You should consider upgrading via the 'D:\\projects\\vsCode\\pythonForHtests\\venv\\Scripts\\python.exe -m pip install --upgrade pip' command.\n"
     ]
    }
   ],
   "source": [
    "!pip3 install -q \"monai-weekly[nibabel, skimage, pillow, tensorboard, gdown, ignite, torchvision, itk, tqdm, lmdb, psutil,  openslide, pandas, einops, transformers, mlflow, matplotlib, tensorboardX, tifffile, imagecodecs]\""
   ]
  },
  {
   "cell_type": "code",
   "execution_count": 188,
   "metadata": {},
   "outputs": [
    {
     "name": "stdout",
     "output_type": "stream",
     "text": [
      "Requirement already satisfied: h5py in d:\\projects\\vscode\\pythonforhtests\\venv\\lib\\site-packages (3.6.0)\n",
      "Requirement already satisfied: numpy>=1.14.5 in d:\\projects\\vscode\\pythonforhtests\\venv\\lib\\site-packages (from h5py) (1.21.5)\n",
      "Requirement already satisfied: cached-property in d:\\projects\\vscode\\pythonforhtests\\venv\\lib\\site-packages (from h5py) (1.5.2)\n"
     ]
    },
    {
     "name": "stderr",
     "output_type": "stream",
     "text": [
      "WARNING: You are using pip version 21.1.2; however, version 22.0.4 is available.\n",
      "You should consider upgrading via the 'D:\\projects\\vsCode\\pythonForHtests\\venv\\Scripts\\python.exe -m pip install --upgrade pip' command.\n"
     ]
    }
   ],
   "source": [
    "!pip3 install h5py\n",
    "!python -c \"import matplotlib\" || pip install -q matplotlib"
   ]
  },
  {
   "cell_type": "code",
   "execution_count": 189,
   "metadata": {},
   "outputs": [],
   "source": [
    "import numpy as np\n",
    "\n",
    "from monai.utils import first, set_determinism\n",
    "from monai.transforms import (\n",
    "    AsDiscrete,\n",
    "    AsDiscreted,\n",
    "    EnsureChannelFirstd,\n",
    "    Compose,\n",
    "    CropForegroundd,\n",
    "    LoadImaged,\n",
    "    Orientationd,\n",
    "    RandCropByPosNegLabeld,\n",
    "    ScaleIntensityRanged,\n",
    "    Spacingd,\n",
    "\n",
    ")\n",
    "from monai.networks.nets import UNet\n",
    "from monai.networks.layers import Norm\n",
    "from monai.metrics import DiceMetric\n",
    "from monai.losses import DiceLoss\n",
    "from monai.inferers import sliding_window_inference\n",
    "from monai.data import CacheDataset, DataLoader, Dataset, decollate_batch\n",
    "from monai.config import print_config\n",
    "from monai.apps import download_and_extract\n",
    "import torch\n",
    "import matplotlib.pyplot as plt\n",
    "import tempfile\n",
    "import shutil\n",
    "import os\n",
    "import glob\n",
    "\n",
    "import matplotlib.pyplot as plt\n",
    "\n",
    "\n",
    "from monai.transforms import (\n",
    "    LoadImage, LoadImaged, EnsureChannelFirstd,\n",
    "    Resized,  Compose\n",
    ")\n",
    "from monai.config import print_config\n",
    "import re\n"
   ]
  },
  {
   "cell_type": "code",
   "execution_count": 190,
   "metadata": {},
   "outputs": [
    {
     "name": "stdout",
     "output_type": "stream",
     "text": [
      "MONAI version: 0.9.dev2210\n",
      "Numpy version: 1.21.5\n",
      "Pytorch version: 1.10.2+cu113\n",
      "MONAI flags: HAS_EXT = False, USE_COMPILED = False\n",
      "MONAI rev id: 1a660e6a7a50e985af5ff76b559baab44175438c\n",
      "MONAI __file__: d:\\projects\\vsCode\\pythonForHtests\\venv\\lib\\site-packages\\monai\\__init__.py\n",
      "\n",
      "Optional dependencies:\n",
      "Pytorch Ignite version: 0.4.8\n",
      "Nibabel version: 3.2.2\n",
      "scikit-image version: 0.19.2\n",
      "Pillow version: 9.0.1\n",
      "Tensorboard version: 2.8.0\n",
      "gdown version: 4.4.0\n",
      "TorchVision version: 0.11.3+cu113\n",
      "tqdm version: 4.63.0\n",
      "lmdb version: 1.3.0\n",
      "psutil version: 5.9.0\n",
      "pandas version: 1.1.5\n",
      "einops version: 0.4.1\n",
      "transformers version: 4.17.0\n",
      "mlflow version: 1.24.0\n",
      "\n",
      "For details about installing the optional dependencies, please visit:\n",
      "    https://docs.monai.io/en/latest/installation.html#installing-the-recommended-dependencies\n",
      "\n"
     ]
    }
   ],
   "source": [
    "from monai.config import print_config\n",
    "print_config()"
   ]
  },
  {
   "cell_type": "code",
   "execution_count": 191,
   "metadata": {},
   "outputs": [],
   "source": [
    "from monai.transforms import *\n",
    "\n",
    "set_determinism(seed=0)\n",
    "val_transforms = Compose(\n",
    "    [\n",
    "        LoadImaged(keys=[\"image\", \"label\"]),\n",
    "        EnsureChannelFirstd(keys=[\"image\", \"label\"]),\n",
    "        Orientationd(keys=[\"image\", \"label\"], axcodes=\"RAS\"),\n",
    "        Spacingd(keys=[\"image\", \"label\"], pixdim=(\n",
    "            1.0, 1.0, 1.0), mode=(\"bilinear\", \"nearest\")),\n",
    "        CropForegroundd(keys=[\"image\", \"label\"], source_key=\"image\"),\n",
    "        EnsureTyped(keys=[\"image\", \"label\"]),\n",
    "    ]\n",
    ")\n"
   ]
  },
  {
   "cell_type": "code",
   "execution_count": 192,
   "metadata": {},
   "outputs": [
    {
     "data": {
      "text/plain": [
       "[{'image': 'D:\\\\dataSets\\\\CTORGmini\\\\volumes 0-49\\\\volume-0.nii.gz',\n",
       "  'label': 'D:\\\\dataSets\\\\CTORGmini\\\\labels\\\\labels-0.nii.gz'},\n",
       " {'image': 'D:\\\\dataSets\\\\CTORGmini\\\\volumes 0-49\\\\volume-1.nii.gz',\n",
       "  'label': 'D:\\\\dataSets\\\\CTORGmini\\\\labels\\\\labels-1.nii.gz'},\n",
       " {'image': 'D:\\\\dataSets\\\\CTORGmini\\\\volumes 0-49\\\\volume-2.nii.gz',\n",
       "  'label': 'D:\\\\dataSets\\\\CTORGmini\\\\labels\\\\labels-2.nii.gz'},\n",
       " {'image': 'D:\\\\dataSets\\\\CTORGmini\\\\volumes 0-49\\\\volume-3.nii.gz',\n",
       "  'label': 'D:\\\\dataSets\\\\CTORGmini\\\\labels\\\\labels-3.nii.gz'}]"
      ]
     },
     "execution_count": 192,
     "metadata": {},
     "output_type": "execute_result"
    }
   ],
   "source": [
    "data_dir = \"D:\\\\dataSets\\\\CTORGmini\\\\\"\n",
    "\n",
    "train_images = sorted(\n",
    "    glob.glob(os.path.join(data_dir, \"volumes 0-49\", \"*.nii.gz\")))\n",
    "\n",
    "train_labels = sorted(\n",
    "    glob.glob(os.path.join(data_dir, \"labels\", \"*.nii.gz\")))\n",
    "\n",
    "data_dicts = [\n",
    "    {\"image\": image_name, \"label\": label_name}\n",
    "    for image_name, label_name in zip(train_images, train_labels)\n",
    "]\n",
    "train_files, val_files = data_dicts[:-9], data_dicts[-9:]\n"
   ]
  },
  {
   "cell_type": "code",
   "execution_count": 193,
   "metadata": {},
   "outputs": [],
   "source": [
    "def getNumberFromFilePath(dat):\n",
    "    string = str(dat['image_meta_dict']['filename_or_obj'])\n",
    "    numb = re.search('.nii', string).span()[0] ## this does what you wanted\n",
    "    describingNumber = string[(numb-2):(numb)].replace(\"-\",\"\")\n",
    "    return int(describingNumber)"
   ]
  },
  {
   "cell_type": "code",
   "execution_count": 194,
   "metadata": {},
   "outputs": [],
   "source": [
    "import h5py\n",
    "f = h5py.File(\"D:\\\\dataSets\\\\forMainHDF5\\\\smallLiverDataSet.hdf5\", \"w\")"
   ]
  },
  {
   "cell_type": "code",
   "execution_count": 195,
   "metadata": {},
   "outputs": [],
   "source": [
    "# https://github.com/Project-MONAI/MONAI/discussions/3906\n",
    "# below example how to filter out the files without spacing and orientation in metadata \n",
    "# >>> from monai.transforms import LoadImaged\n",
    "# >>> data_dict = LoadImaged(keys=\"img\")({\"img\": \"./volume-20.nii.gz\"})\n",
    "# >>> (data_dict[\"img_meta_dict\"][\"qform_code\"], data_dict[\"img_meta_dict\"][\"sform_code\"])\n",
    "# (array(0, dtype=int16), array(0, dtype=int16))\n",
    "\n",
    "# >>> data_dict = LoadImaged(keys=\"img\")({\"img\": \"./volume-21.nii.gz\"})\n",
    "# >>> (data_dict[\"img_meta_dict\"][\"qform_code\"], data_dict[\"img_meta_dict\"][\"sform_code\"])\n",
    "# (array(1, dtype=int16), array(1, dtype=int16))\n"
   ]
  },
  {
   "cell_type": "code",
   "execution_count": 196,
   "metadata": {},
   "outputs": [
    {
     "name": "stdout",
     "output_type": "stream",
     "text": [
      "torch.Size([348, 250, 371])\n",
      "0\n",
      "torch.Size([346, 299, 611])\n",
      "1\n",
      "torch.Size([397, 358, 517])\n",
      "2\n",
      "torch.Size([355, 349, 534])\n",
      "3\n"
     ]
    }
   ],
   "source": [
    "check_ds = Dataset(data=data_dicts, transform=val_transforms)\n",
    "check_loader = DataLoader(check_ds, batch_size=1)\n",
    "\n",
    "for dat in check_loader:\n",
    "    describingNumber = getNumberFromFilePath(dat)\n",
    "    grp = f.create_group(str(describingNumber))\n",
    "\n",
    "    labelBoolTensor =torch.where( dat['label']==1, 1, 0).bool()\n",
    "    summ= torch.sum(labelBoolTensor)\n",
    "    #if summ>0:\n",
    "    labelBoolDataset = grp.create_dataset('liver', data=  (labelBoolTensor[0,0,:,:,:]).detach().numpy())\n",
    "    imageDataset = grp.create_dataset('image', data=  (dat['image'][0,0,:,:,:]).detach().numpy())\n",
    "    labelBoolDataset.attrs['sum']=  summ\n",
    "    \n",
    "    print( labelBoolTensor[0,0,:,:,:].size() )\n",
    "\n",
    "    imageDataset.attrs['dataType']=  \"CT\"\n",
    "    labelBoolDataset.attrs['dataType']=  \"boolLabel\"\n",
    "\n",
    "    #seting spacing - needs to be the same for all of the arrays in a grop - so the same for all images in patient\n",
    "    grp.attrs['spacing']=(1,1,1)\n",
    "\n",
    "    #get minimum and maximum values\n",
    "    imageDataset.attrs['min']=torch.min(dat['image'])\n",
    "    imageDataset.attrs['max']=torch.max(dat['image'])\n",
    "\n",
    "    labelBoolDataset.attrs['min']=0\n",
    "    labelBoolDataset.attrs['max']=1\n",
    "\n",
    "  \n",
    "\n",
    "    print(describingNumber)\n",
    "    pass"
   ]
  },
  {
   "cell_type": "code",
   "execution_count": 197,
   "metadata": {},
   "outputs": [],
   "source": [
    "f.close()"
   ]
  }
 ],
 "metadata": {
  "interpreter": {
   "hash": "c8f1dbbf69973cc4b6583c327e15469e0625ce5e766b6de5a5209808bda28079"
  },
  "kernelspec": {
   "display_name": "Python 3.7.9 64-bit",
   "language": "python",
   "name": "python3"
  },
  "language_info": {
   "codemirror_mode": {
    "name": "ipython",
    "version": 3
   },
   "file_extension": ".py",
   "mimetype": "text/x-python",
   "name": "python",
   "nbconvert_exporter": "python",
   "pygments_lexer": "ipython3",
   "version": "3.7.0"
  },
  "orig_nbformat": 4
 },
 "nbformat": 4,
 "nbformat_minor": 2
}